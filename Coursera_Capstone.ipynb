{
    "cells": [
        {
            "metadata": {
                "collapsed": true
            },
            "cell_type": "markdown",
            "source": "<a href=\"https://www.bigdatauniversity.com\"><img src = \"https://ibm.box.com/shared/static/cw2c7r3o20w9zn8gkecaeyjhgw3xdgbj.png\" width = 200, align = \"center\"></a>\n<a href=\"https://www.bigdatauniversity.com\"><img src = \"https://upload.wikimedia.org/wikipedia/commons/thumb/5/51/IBM_logo.svg/1920px-IBM_logo.svg.png\" width = 400, align = \"center\"></a>\n\n<h1 align=center><font size = 5>IBM Data Science Professional Certification</font></h1>\n<h3 align=center><font size = 4>Capstone Project</font></h3>\n<h4 align=center><font size = 3><a href=\"https://www.linkedin.com/in/federico-sciuca/\">Federico Sciuca</a></font></h4>\n"
        },
        {
            "metadata": {},
            "cell_type": "markdown",
            "source": "***"
        },
        {
            "metadata": {},
            "cell_type": "markdown",
            "source": "In this book I'll develop my final assignment to achieve the Data Science Professional Certification offered by IBM."
        },
        {
            "metadata": {},
            "cell_type": "markdown",
            "source": "First of all, let's import some foundamental libraries to the project. I'll import Pandas and Numpy."
        },
        {
            "metadata": {},
            "cell_type": "code",
            "source": "import pandas as pd\nimport numpy as np",
            "execution_count": 1,
            "outputs": []
        },
        {
            "metadata": {},
            "cell_type": "code",
            "source": "print(\"Hello Capstone Project Course!\")",
            "execution_count": 2,
            "outputs": [
                {
                    "output_type": "stream",
                    "text": "Hello Capstone Project Course!\n",
                    "name": "stdout"
                }
            ]
        },
        {
            "metadata": {},
            "cell_type": "code",
            "source": "",
            "execution_count": null,
            "outputs": []
        }
    ],
    "metadata": {
        "kernelspec": {
            "name": "python3",
            "display_name": "Python 3.6",
            "language": "python"
        },
        "language_info": {
            "name": "python",
            "version": "3.6.8",
            "mimetype": "text/x-python",
            "codemirror_mode": {
                "name": "ipython",
                "version": 3
            },
            "pygments_lexer": "ipython3",
            "nbconvert_exporter": "python",
            "file_extension": ".py"
        }
    },
    "nbformat": 4,
    "nbformat_minor": 1
}